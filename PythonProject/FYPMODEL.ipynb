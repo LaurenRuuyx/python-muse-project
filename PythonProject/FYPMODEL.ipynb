{
  "nbformat": 4,
  "nbformat_minor": 0,
  "metadata": {
    "colab": {
      "provenance": [],
      "gpuType": "T4"
    },
    "kernelspec": {
      "name": "python3",
      "display_name": "Python 3"
    },
    "language_info": {
      "name": "python"
    },
    "accelerator": "GPU"
  },
  "cells": [
    {
      "cell_type": "code",
      "source": [
        "import csv\n",
        "import numpy as np\n",
        "from sklearn.model_selection import train_test_split\n",
        "from sklearn.preprocessing import StandardScaler\n",
        "from sklearn.svm import SVC\n",
        "from sklearn.metrics import classification_report, confusion_matrix, accuracy_score\n",
        "import tensorflow as tf\n",
        "import keras\n",
        "from sklearn import preprocessing\n",
        "import joblib\n",
        "\n",
        "\n"
      ],
      "metadata": {
        "id": "LtkbAEdQT4zn"
      },
      "execution_count": null,
      "outputs": []
    },
    {
      "cell_type": "code",
      "execution_count": null,
      "metadata": {
        "id": "1vzzG-gmTDzl"
      },
      "outputs": [],
      "source": [
        "row_size = 300\n",
        "w, h = row_size, 4\n",
        "data = []\n",
        "labels = []\n",
        "temp_2d_array = []\n",
        "iteration = 0\n",
        "global_row = 0\n"
      ]
    },
    {
      "cell_type": "code",
      "source": [
        "with open('/content/project_data_final.csv', 'r') as csvFile:\n",
        "    # Create a reader object\n",
        "    csv_reader = csv.reader(csvFile)\n",
        "    for row in csv_reader:\n",
        "        if(iteration == 4):\n",
        "          data.append(temp_2d_array)\n",
        "          labels.append(int(row[0]))\n",
        "          temp_2d_array = []\n",
        "          iteration = 0\n",
        "          global_row += 1\n",
        "        else:\n",
        "          temp = [int(float(item)) for item in row]\n",
        "          temp_2d_array.append(temp)\n",
        "          iteration += 1\n",
        "\n"
      ],
      "metadata": {
        "id": "BvTzAz-tTjwD"
      },
      "execution_count": null,
      "outputs": []
    },
    {
      "cell_type": "code",
      "source": [
        "print(data[0])\n",
        "print(labels[0])\n",
        "print(len(data))\n",
        "print(len(labels))"
      ],
      "metadata": {
        "colab": {
          "base_uri": "https://localhost:8080/"
        },
        "id": "qFeD3hFLVBFf",
        "outputId": "7e38e12f-ba04-4f11-cafb-6f6b9de7813c"
      },
      "execution_count": null,
      "outputs": [
        {
          "output_type": "stream",
          "name": "stdout",
          "text": [
            "[[-56, -40, -15, -19, -27, -36, -21, -3, -8, -35, -44, -27, -14, -17, -37, -45, -30, -20, -33, -49, -50, -41, -20, -27, -53, -58, -56, -41, -27, -42, -61, -44, -33, -24, -28, -44, -45, -28, -10, -17, -30, -23, -5, -4, -28, -43, -41, -23, 0, -12, -41, -43, -26, -28, -41, -50, -63, -46, -21, -17, -30, -40, -31, -20, -20, -33, -44, -46, -25, -16, -47, -62, -55, -37, -32, -44, -51, -53, -41, -32, -39, -52, -57, -41, -23, -25, -39, -43, -25, -9, -19, -30, -28, -20, -4, -2, -29, -40, -28, -10, -8, -42, -51, -36, -25, -20, -37, -51, -41, -28, -22, -32, -43, -40, -26, -20, -37, -58, -57, -33, -22, -43, -52, -40, -20, -12, -18, -29, -33, -13, -1, -12, -33, -46, -29, -20, -28, -36, -45, -42, -29, -29, -48, -62, -50, -36, -34, -44, -58, -50, -39, -42, -61, -71, -64, -56, -42, -43, -42, -32, -21, -11, -18, -43, -35, -19, -25, -42, -52, -51, -42, -20, -17, -40, -42, -24, -21, -30, -48, -60, -49, -27, -25, -53, -59, -47, -31, -21, -29, -46, -55, -27, -8, -26, -37, -31, -11, -1, -20, -41, -43, -28, -24, -28, -45, -51, -29, -14, -21, -31, -32, -16, -6, -21, -42, -48, -35, -13, -22, -42, -45, -38, -9, 1, -28, -36, -30, -19, -3, -16, -36, -32, -14, -7, -19, -41, -46, -24, -17, -38, -51, -43, -25, -16, -27, -50, -49, -35, -30, -29, -46, -57, -34, -12, -23, -40, -41, -27, -2, 0, -26, -29, -20, -10, -9, -30, -39, -36, -19, -7, -33, -59, -40, -20, -23, -40, -59, -60, -44, -28, -33, -57, -62, -38, -17, -28, -59, -55, -27, -11, -17, -40, -48, -36, -20, -20, -35, -44, -32, -12], [-49, -54, -49, -46, -55, -60, -58, -54, -53, -55, -54, -51, -49, -50, -53, -50, -47, -49, -46, -45, -52, -54, -51, -48, -49, -54, -54, -52, -49, -50, -58, -60, -60, -54, -52, -54, -55, -53, -45, -44, -49, -48, -41, -41, -42, -41, -45, -43, -41, -44, -41, -41, -42, -46, -47, -45, -45, -44, -40, -41, -41, -44, -49, -48, -41, -43, -51, -52, -53, -55, -53, -52, -51, -52, -57, -53, -56, -63, -61, -61, -58, -57, -54, -60, -61, -58, -56, -56, -57, -56, -54, -55, -54, -52, -50, -49, -58, -59, -55, -54, -54, -54, -49, -49, -51, -49, -48, -55, -56, -47, -49, -52, -47, -51, -49, -44, -52, -55, -50, -46, -51, -54, -57, -53, -44, -46, -45, -46, -45, -41, -41, -36, -41, -45, -43, -43, -45, -50, -53, -52, -53, -58, -58, -63, -66, -57, -58, -62, -63, -64, -60, -63, -63, -59, -57, -59, -62, -63, -60, -59, -60, -57, -58, -62, -51, -49, -50, -44, -45, -54, -60, -54, -49, -53, -57, -54, -50, -53, -53, -52, -53, -52, -55, -54, -52, -53, -45, -42, -43, -47, -48, -38, -40, -46, -43, -44, -45, -44, -49, -51, -50, -50, -46, -42, -43, -44, -41, -41, -43, -45, -47, -45, -42, -42, -42, -45, -46, -46, -49, -47, -45, -51, -43, -40, -44, -41, -50, -46, -39, -46, -49, -45, -44, -45, -40, -41, -43, -41, -41, -44, -47, -45, -42, -41, -44, -52, -56, -54, -50, -50, -51, -51, -49, -49, -52, -56, -56, -53, -51, -45, -39, -40, -47, -47, -48, -51, -51, -51, -53, -52, -49, -46, -53, -56, -51, -53, -60, -56, -54, -56, -51, -52, -52, -49, -51, -53, -55, -56, -49, -46, -51, -53, -57, -56, -49, -49, -53, -58, -57, -51], [-52, -53, -47, -44, -52, -61, -55, -51, -55, -57, -55, -48, -49, -52, -52, -48, -43, -43, -42, -37, -38, -41, -41, -38, -38, -47, -48, -46, -47, -51, -56, -53, -54, -51, -47, -46, -45, -44, -42, -41, -43, -45, -44, -46, -47, -46, -44, -41, -38, -39, -42, -43, -46, -50, -49, -53, -57, -56, -53, -53, -54, -58, -59, -54, -52, -54, -59, -55, -50, -53, -57, -51, -48, -49, -48, -47, -50, -55, -53, -51, -53, -55, -53, -52, -57, -61, -57, -56, -55, -59, -58, -52, -53, -54, -50, -48, -50, -53, -51, -48, -52, -54, -46, -41, -46, -47, -50, -53, -51, -49, -45, -49, -51, -51, -50, -49, -53, -53, -48, -42, -40, -46, -46, -41, -40, -41, -41, -41, -46, -45, -45, -45, -45, -45, -42, -41, -42, -46, -43, -47, -53, -55, -55, -55, -53, -52, -57, -54, -56, -62, -61, -56, -54, -55, -51, -49, -50, -55, -56, -53, -54, -57, -57, -58, -53, -50, -50, -52, -57, -60, -56, -56, -56, -57, -58, -54, -52, -51, -47, -50, -51, -47, -51, -51, -50, -53, -50, -48, -46, -50, -56, -53, -45, -47, -47, -41, -40, -46, -51, -50, -50, -50, -52, -51, -50, -49, -45, -51, -53, -54, -55, -53, -49, -52, -49, -51, -57, -56, -56, -57, -57, -57, -58, -59, -60, -62, -66, -64, -59, -56, -57, -55, -52, -48, -42, -47, -50, -48, -50, -55, -54, -53, -59, -58, -58, -65, -66, -59, -52, -55, -55, -53, -55, -56, -58, -57, -55, -55, -58, -57, -49, -50, -53, -50, -54, -59, -50, -46, -46, -44, -47, -48, -48, -46, -46, -48, -53, -56, -53, -56, -57, -56, -56, -50, -46, -49, -53, -51, -46, -50, -59, -55, -52, -56, -58, -59, -55, -52, -49, -48], [-32, -20, -16, -28, -21, -19, -19, -23, -29, -35, -29, -14, -23, -31, -28, -30, -18, -13, -17, -25, -22, -7, -18, -25, -31, -45, -33, -25, -39, -55, -60, -35, -31, -44, -49, -49, -46, -32, -17, -20, -21, -14, -3, -1, -16, -25, -14, -5, -10, -10, -20, -35, -36, -45, -43, -44, -49, -37, -34, -47, -56, -46, -33, -26, -35, -45, -44, -38, -22, -26, -43, -43, -26, -16, -16, -29, -36, -19, -12, -31, -40, -42, -40, -31, -35, -46, -47, -33, -16, -21, -38, -39, -29, -9, -7, -27, -42, -39, -32, -21, -19, -37, -43, -29, -11, -26, -45, -36, -25, -27, -25, -30, -35, -29, -21, -14, -17, -36, -41, -24, -20, -36, -41, -22, -5, -9, -26, -21, -16, -38, -47, -50, -54, -42, -22, -20, -37, -43, -34, -17, -22, -33, -38, -47, -27, -13, -23, -42, -42, -20, -5, -10, -41, -55, -43, -41, -51, -41, -42, -42, -21, -28, -39, -47, -39, -25, -20, -27, -33, -24, -18, -20, -34, -32, -28, -23, -10, -23, -33, -30, -21, -16, -28, -38, -35, -23, -30, -36, -19, -19, -26, -18, -31, -45, -41, -27, -17, -35, -51, -50, -37, -20, -31, -54, -50, -34, -23, -23, -26, -34, -38, -17, -11, -28, -33, -35, -25, -18, -21, -33, -38, -27, -33, -32, -45, -57, -45, -42, -37, -41, -45, -34, -28, -23, -21, -19, -13, 1, -4, -33, -30, -13, -5, -24, -40, -34, -19, -11, -11, -25, -41, -34, -23, -31, -43, -49, -41, -29, -21, -25, -34, -28, -10, -3, -13, -28, -26, -7, 3, 2, -12, -23, -17, -22, -31, -42, -41, -31, -30, -36, -34, -28, -30, -18, -14, -26, -34, -21, -14, -25, -41, -49, -34, -23, -19, -20, -25, -23, -13, -7]]\n",
            "0\n",
            "3000\n",
            "3000\n"
          ]
        }
      ]
    },
    {
      "cell_type": "code",
      "source": [
        "data = np.array(data)\n",
        "min_max_scaler = preprocessing.MinMaxScaler()\n",
        "iter = 0\n",
        "for element in data:\n",
        "  element = min_max_scaler.fit_transform(element)\n",
        "  data[iter] = element\n",
        "  iter += 1\n"
      ],
      "metadata": {
        "id": "xwvs8Jp7Wpuc"
      },
      "execution_count": null,
      "outputs": []
    },
    {
      "cell_type": "code",
      "source": [
        "print(data[0])"
      ],
      "metadata": {
        "colab": {
          "base_uri": "https://localhost:8080/"
        },
        "id": "YMuM0px7X2-e",
        "outputId": "0bdb7881-92e1-4339-849c-c91020d7da13"
      },
      "execution_count": null,
      "outputs": [
        {
          "output_type": "stream",
          "name": "stdout",
          "text": [
            "[[0 0 1 ... 0 0 0]\n",
            " [0 0 0 ... 0 0 0]\n",
            " [0 0 0 ... 0 0 0]\n",
            " [0 0 0 ... 0 1 1]]\n"
          ]
        }
      ]
    },
    {
      "cell_type": "code",
      "source": [
        "data_train, data_test, labels_train, labels_test = train_test_split(data, labels, test_size=0.20, random_state=47)\n",
        "data_train = np.array(data_train)\n",
        "labels_train = np.array(labels_train)\n",
        "data_test = np.array(data_test)\n",
        "labels_test = np.array(labels_test)"
      ],
      "metadata": {
        "id": "PAIlx4RNYICF"
      },
      "execution_count": null,
      "outputs": []
    },
    {
      "cell_type": "code",
      "source": [
        "# Define a sequential model using TensorFlow's Keras API\n",
        "model = tf.keras.models.Sequential([\n",
        "\n",
        "    # First layer: Flatten the input (28x28 images) into a 1D vector (28*28 = 784)\n",
        "    tf.keras.layers.Flatten(),\n",
        "\n",
        "    # Second layer: Dense (fully connected) layer with 12 units and sigmoid activation function\n",
        "    tf.keras.layers.Dense(200, activation='relu'),\n",
        "\n",
        "    # tf.keras.layers.Dropout(0.2),\n",
        "\n",
        "    # Third layer: Dense layer with 200 units and sigmoid activation function\n",
        "    tf.keras.layers.Dense(200, activation='relu'),\n",
        "\n",
        "    # # Dropout layer: Randomly sets 20% of input units to 0 to prevent overfitting\n",
        "    # tf.keras.layers.Dropout(0.2),\n",
        "\n",
        "    # Output layer: Dense layer with 10 units (one for each digit class) and softmax activation\n",
        "    # The softmax activation is used for multi-class classification, as it outputs probabilities for each class\n",
        "    tf.keras.layers.Dense(5, activation='softmax')\n",
        "])\n",
        "\n",
        "# Compile the model with:\n",
        "# - 'adam' optimizer (adaptive learning rate optimizer)\n",
        "# - 'sparse_categorical_crossentropy' loss function (used for multi-class classification)\n",
        "# - 'accuracy' metric to monitor the performance during training\n",
        "model.compile(optimizer='adam',\n",
        "              loss='sparse_categorical_crossentropy',\n",
        "              metrics=['accuracy'])"
      ],
      "metadata": {
        "id": "pAaBqpEJYwPB"
      },
      "execution_count": null,
      "outputs": []
    },
    {
      "cell_type": "code",
      "source": [
        "print(data_train.shape)\n",
        "print(data_test[0].shape)\n",
        "print(data_train[0])\n",
        "print(data_train[len(data_train)-1])"
      ],
      "metadata": {
        "colab": {
          "base_uri": "https://localhost:8080/"
        },
        "id": "3FcUf3FiaFcR",
        "outputId": "32483da2-b420-4532-9e53-e405c6e8c60d"
      },
      "execution_count": null,
      "outputs": [
        {
          "output_type": "stream",
          "name": "stdout",
          "text": [
            "(2400, 4, 300)\n",
            "(4, 300)\n",
            "[[0 0 0 ... 1 0 0]\n",
            " [0 0 0 ... 0 1 0]\n",
            " [1 0 1 ... 0 0 0]\n",
            " [0 0 0 ... 0 0 0]]\n",
            "[[0 1 1 ... 0 0 0]\n",
            " [0 0 0 ... 0 0 1]\n",
            " [0 0 0 ... 0 0 0]\n",
            " [0 0 0 ... 0 0 0]]\n"
          ]
        }
      ]
    },
    {
      "cell_type": "code",
      "source": [
        "history = model.fit(data_train, labels_train, epochs=3, verbose=1, batch_size = 25)"
      ],
      "metadata": {
        "colab": {
          "base_uri": "https://localhost:8080/"
        },
        "id": "_2DfpQXzZvSs",
        "outputId": "c446b728-f6eb-4eb1-d868-7c0f584b2ed5"
      },
      "execution_count": null,
      "outputs": [
        {
          "output_type": "stream",
          "name": "stdout",
          "text": [
            "Epoch 1/3\n",
            "\u001b[1m96/96\u001b[0m \u001b[32m━━━━━━━━━━━━━━━━━━━━\u001b[0m\u001b[37m\u001b[0m \u001b[1m2s\u001b[0m 3ms/step - accuracy: 0.6946 - loss: 0.8264\n",
            "Epoch 2/3\n",
            "\u001b[1m96/96\u001b[0m \u001b[32m━━━━━━━━━━━━━━━━━━━━\u001b[0m\u001b[37m\u001b[0m \u001b[1m1s\u001b[0m 2ms/step - accuracy: 0.9404 - loss: 0.2096\n",
            "Epoch 3/3\n",
            "\u001b[1m96/96\u001b[0m \u001b[32m━━━━━━━━━━━━━━━━━━━━\u001b[0m\u001b[37m\u001b[0m \u001b[1m0s\u001b[0m 2ms/step - accuracy: 0.9811 - loss: 0.0889\n"
          ]
        }
      ]
    },
    {
      "cell_type": "code",
      "source": [
        "y_pred = model.predict(data_test)\n",
        "y_pred_argmax = np.argmax(y_pred, axis=1)\n",
        "print(\"Accuracy Score        : \",accuracy_score(labels_test, y_pred_argmax))\n",
        "print(\"Classification Report : \\n\", classification_report(labels_test, y_pred_argmax))\n"
      ],
      "metadata": {
        "colab": {
          "base_uri": "https://localhost:8080/"
        },
        "id": "-mkVkM9zb3LK",
        "outputId": "c5e5246f-5b47-4c98-c79a-7dbcc1cd30b7"
      },
      "execution_count": null,
      "outputs": [
        {
          "output_type": "stream",
          "name": "stdout",
          "text": [
            "\u001b[1m19/19\u001b[0m \u001b[32m━━━━━━━━━━━━━━━━━━━━\u001b[0m\u001b[37m\u001b[0m \u001b[1m0s\u001b[0m 8ms/step\n",
            "Accuracy Score        :  0.895\n",
            "Classification Report : \n",
            "               precision    recall  f1-score   support\n",
            "\n",
            "           0       0.88      0.90      0.89       141\n",
            "           1       0.90      0.72      0.80       120\n",
            "           2       0.79      0.91      0.84        97\n",
            "           3       0.96      0.99      0.97       134\n",
            "           4       0.95      0.96      0.96       108\n",
            "\n",
            "    accuracy                           0.90       600\n",
            "   macro avg       0.89      0.89      0.89       600\n",
            "weighted avg       0.90      0.90      0.89       600\n",
            "\n"
          ]
        }
      ]
    },
    {
      "cell_type": "code",
      "source": [
        "model.save('/content/model.h5')"
      ],
      "metadata": {
        "colab": {
          "base_uri": "https://localhost:8080/"
        },
        "id": "pDFssMD-cOxR",
        "outputId": "6268caa9-adc8-4fba-c81a-18627927fc15"
      },
      "execution_count": null,
      "outputs": [
        {
          "output_type": "stream",
          "name": "stderr",
          "text": [
            "WARNING:absl:You are saving your model as an HDF5 file via `model.save()` or `keras.saving.save_model(model)`. This file format is considered legacy. We recommend using instead the native Keras format, e.g. `model.save('my_model.keras')` or `keras.saving.save_model(model, 'my_model.keras')`. \n"
          ]
        }
      ]
    },
    {
      "cell_type": "code",
      "source": [
        "new_model = keras.models.load_model('/content/model.h5')"
      ],
      "metadata": {
        "colab": {
          "base_uri": "https://localhost:8080/"
        },
        "id": "9ODYmDUq7vEn",
        "outputId": "fe6f4733-5a34-40cd-bda5-e7e4fe3fbd65"
      },
      "execution_count": null,
      "outputs": [
        {
          "output_type": "stream",
          "name": "stderr",
          "text": [
            "WARNING:absl:Compiled the loaded model, but the compiled metrics have yet to be built. `model.compile_metrics` will be empty until you train or evaluate the model.\n"
          ]
        }
      ]
    }
  ]
}